{
 "cells": [
  {
   "cell_type": "code",
   "execution_count": 1,
   "id": "initial_id",
   "metadata": {
    "collapsed": true,
    "ExecuteTime": {
     "end_time": "2024-06-11T08:32:47.717049Z",
     "start_time": "2024-06-11T08:32:47.438607Z"
    }
   },
   "outputs": [],
   "source": [
    "import pandas as pd"
   ]
  },
  {
   "cell_type": "code",
   "outputs": [],
   "source": [
    "df = pd.read_csv(\"data/processed/merged_sas.csv\",sep=';')"
   ],
   "metadata": {
    "collapsed": false,
    "ExecuteTime": {
     "end_time": "2024-06-11T08:39:54.363373Z",
     "start_time": "2024-06-11T08:39:53.642528Z"
    }
   },
   "id": "16332c3c5b29d34",
   "execution_count": 6
  },
  {
   "cell_type": "code",
   "outputs": [
    {
     "data": {
      "text/plain": "Index(['Type', 'Date', 'Part of a policing operation', 'Policing operation',\n       'Latitude', 'Longitude', 'Gender', 'Age range',\n       'Self-defined ethnicity', 'Officer-defined ethnicity', 'Legislation',\n       'Object of search', 'Outcome', 'Outcome linked to object of search',\n       'Removal of more than just outer clothing'],\n      dtype='object')"
     },
     "execution_count": 8,
     "metadata": {},
     "output_type": "execute_result"
    }
   ],
   "source": [
    "df.columns"
   ],
   "metadata": {
    "collapsed": false,
    "ExecuteTime": {
     "end_time": "2024-06-11T08:40:11.602355Z",
     "start_time": "2024-06-11T08:40:11.597782Z"
    }
   },
   "id": "7183e59b8ba2165",
   "execution_count": 8
  },
  {
   "cell_type": "code",
   "outputs": [],
   "source": [],
   "metadata": {
    "collapsed": false
   },
   "id": "a2685139ddeb2456"
  }
 ],
 "metadata": {
  "kernelspec": {
   "display_name": "Python 3",
   "language": "python",
   "name": "python3"
  },
  "language_info": {
   "codemirror_mode": {
    "name": "ipython",
    "version": 2
   },
   "file_extension": ".py",
   "mimetype": "text/x-python",
   "name": "python",
   "nbconvert_exporter": "python",
   "pygments_lexer": "ipython2",
   "version": "2.7.6"
  }
 },
 "nbformat": 4,
 "nbformat_minor": 5
}
